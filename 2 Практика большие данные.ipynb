{
 "cells": [
  {
   "cell_type": "code",
   "execution_count": 1,
   "metadata": {},
   "outputs": [
    {
     "name": "stdout",
     "output_type": "stream",
     "text": [
      "[[0. 1. 0. 1. 0. 1. 0. 1.]\n",
      " [1. 0. 1. 0. 1. 0. 1. 0.]\n",
      " [0. 1. 0. 1. 0. 1. 0. 1.]\n",
      " [1. 0. 1. 0. 1. 0. 1. 0.]\n",
      " [0. 1. 0. 1. 0. 1. 0. 1.]\n",
      " [1. 0. 1. 0. 1. 0. 1. 0.]\n",
      " [0. 1. 0. 1. 0. 1. 0. 1.]\n",
      " [1. 0. 1. 0. 1. 0. 1. 0.]]\n"
     ]
    }
   ],
   "source": [
    "'№1.3.1'\n",
    "import numpy as np # type: ignore\n",
    "matrix = np.zeros((8,8))\n",
    "for i in range(8):\n",
    " for j in range(8):\n",
    "    if (i + j) % 2 == 0:\n",
    "        matrix[i][j] = 0\n",
    "    else:\n",
    "        matrix[i][j] = 1\n",
    "print(matrix)"
   ]
  },
  {
   "cell_type": "code",
   "execution_count": 2,
   "metadata": {},
   "outputs": [
    {
     "name": "stdout",
     "output_type": "stream",
     "text": [
      "[0 1 2 3 4]\n",
      "[0 1 2 3 4]\n",
      "[0 1 2 3 4]\n",
      "[0 1 2 3 4]\n",
      "[0 1 2 3 4]\n"
     ]
    }
   ],
   "source": [
    "'№1.3.2'\n",
    "i = 0\n",
    "while i < 5:\n",
    "    y = np.arange(0, 5)\n",
    "    i += 1\n",
    "    print(y)"
   ]
  },
  {
   "cell_type": "code",
   "execution_count": 4,
   "metadata": {},
   "outputs": [
    {
     "name": "stdout",
     "output_type": "stream",
     "text": [
      "[[[0.93189714 0.761529   0.79571733]\n",
      "  [0.35147927 0.54338664 0.08973442]\n",
      "  [0.60446087 0.66757035 0.50816495]]\n",
      "\n",
      " [[0.47153986 0.01015703 0.54159054]\n",
      "  [0.40664805 0.86850233 0.67570905]\n",
      "  [0.39104161 0.54861856 0.16640348]]\n",
      "\n",
      " [[0.29376114 0.20341544 0.36042935]\n",
      "  [0.25082906 0.7972653  0.13520353]\n",
      "  [0.15047016 0.49554433 0.79208215]]]\n"
     ]
    }
   ],
   "source": [
    "'№1.3.3'\n",
    "import numpy as np # type: ignore\n",
    "array = np.random.random((3,3,3))\n",
    "print(array)\n"
   ]
  },
  {
   "cell_type": "code",
   "execution_count": 5,
   "metadata": {},
   "outputs": [
    {
     "name": "stdout",
     "output_type": "stream",
     "text": [
      "[[1. 1. 1. 1. 1. 1. 1. 1. 1.]\n",
      " [1. 0. 0. 0. 0. 0. 0. 0. 1.]\n",
      " [1. 0. 0. 0. 0. 0. 0. 0. 1.]\n",
      " [1. 0. 0. 0. 0. 0. 0. 0. 1.]\n",
      " [1. 0. 0. 0. 0. 0. 0. 0. 1.]\n",
      " [1. 0. 0. 0. 0. 0. 0. 0. 1.]\n",
      " [1. 0. 0. 0. 0. 0. 0. 0. 1.]\n",
      " [1. 0. 0. 0. 0. 0. 0. 0. 1.]\n",
      " [1. 1. 1. 1. 1. 1. 1. 1. 1.]]\n"
     ]
    }
   ],
   "source": [
    "'№1.3.4'\n",
    "import numpy as np # type: ignore\n",
    "def create_matrix(rows, cols):\n",
    " matrix = np.zeros((rows, cols))\n",
    " matrix[0, :] = 1\n",
    " matrix[-1, :] = 1\n",
    " matrix[:, 0] = 1\n",
    " matrix[:, -1] = 1\n",
    " return matrix\n",
    "rows = int(input())\n",
    "cols = int(input())\n",
    "print(create_matrix(rows, cols))"
   ]
  },
  {
   "cell_type": "code",
   "execution_count": 6,
   "metadata": {},
   "outputs": [
    {
     "name": "stdout",
     "output_type": "stream",
     "text": [
      "[0.49823903 0.37538229 0.41309637 0.7431636  0.89542862 0.01863275\n",
      " 0.14570637 0.90632133 0.97630673 0.4522207 ]\n",
      "[0.01863275 0.14570637 0.37538229 0.41309637 0.4522207  0.49823903\n",
      " 0.7431636  0.89542862 0.90632133 0.97630673]\n"
     ]
    }
   ],
   "source": [
    "'№1.3.5'\n",
    "import numpy as np # type: ignore\n",
    "array = np.random.rand(10)\n",
    "print(array)\n",
    "sorted_array = np.sort(array)\n",
    "print(sorted_array)"
   ]
  },
  {
   "cell_type": "code",
   "execution_count": 7,
   "metadata": {},
   "outputs": [
    {
     "name": "stdout",
     "output_type": "stream",
     "text": [
      "(3, 3)\n",
      "9\n",
      "2\n"
     ]
    }
   ],
   "source": [
    "'#1.3.6'\n",
    "import numpy as np # type: ignore\n",
    "matrix = np.array([[1,2,3], [2,3,4], [5,6,7]])\n",
    "print(matrix.shape)\n",
    "print(matrix.size)\n",
    "print(matrix.ndim)"
   ]
  },
  {
   "cell_type": "code",
   "execution_count": 9,
   "metadata": {},
   "outputs": [
    {
     "name": "stdout",
     "output_type": "stream",
     "text": [
      "7.3484692283495345\n"
     ]
    }
   ],
   "source": [
    "'№2.3.1'\n",
    "import pandas as pd # type: ignore\n",
    "import numpy as np # type: ignore\n",
    "a = pd.Series([3,2,3])\n",
    "b = pd.Series([9,5,6])\n",
    "def euclidean(a, b):\n",
    " diff = (a - b)**2\n",
    " sum_diff = diff.sum()\n",
    " return np.sqrt(sum_diff)\n",
    "distance = euclidean(a, b)\n",
    "print(distance)"
   ]
  },
  {
   "cell_type": "code",
   "execution_count": 11,
   "metadata": {},
   "outputs": [],
   "source": [
    "'№2.3.2'\n",
    "import pandas as pd # type: ignore\n",
    "url = 'https://raw.githubusercontent.com/akmand/datasets/main/glass.csv'\n",
    "dataframe = pd.read_csv(url)"
   ]
  },
  {
   "cell_type": "code",
   "execution_count": 12,
   "metadata": {},
   "outputs": [
    {
     "name": "stdout",
     "output_type": "stream",
     "text": [
      "         1      2     3     4      5     6     7    8    9  10\n",
      "0  1.52101  13.64  4.49  1.10  71.78  0.06  8.75  0.0  0.0   1\n",
      "1  1.51761  13.89  3.60  1.36  72.73  0.48  7.83  0.0  0.0   1\n",
      "2  1.51618  13.53  3.55  1.54  72.99  0.39  7.78  0.0  0.0   1\n",
      "3  1.51766  13.21  3.69  1.29  72.61  0.57  8.22  0.0  0.0   1\n",
      "4  1.51742  13.27  3.62  1.24  73.08  0.55  8.07  0.0  0.0   1\n",
      "           1      2    3     4      5    6     7     8    9  10\n",
      "211  1.52065  14.36  0.0  2.02  73.42  0.0  8.44  1.64  0.0   7\n",
      "212  1.51651  14.38  0.0  1.94  73.61  0.0  8.48  1.57  0.0   7\n",
      "213  1.51711  14.23  0.0  2.08  73.36  0.0  8.62  1.67  0.0   7\n",
      "(214, 10)\n",
      "                1           2           3           4           5           6  \\\n",
      "count  214.000000  214.000000  214.000000  214.000000  214.000000  214.000000   \n",
      "mean     1.518365   13.407850    2.684533    1.444907   72.650935    0.497056   \n",
      "std      0.003037    0.816604    1.442408    0.499270    0.774546    0.652192   \n",
      "min      1.511150   10.730000    0.000000    0.290000   69.810000    0.000000   \n",
      "25%      1.516522   12.907500    2.115000    1.190000   72.280000    0.122500   \n",
      "50%      1.517680   13.300000    3.480000    1.360000   72.790000    0.555000   \n",
      "75%      1.519157   13.825000    3.600000    1.630000   73.087500    0.610000   \n",
      "max      1.533930   17.380000    4.490000    3.500000   75.410000    6.210000   \n",
      "\n",
      "                7           8           9          10  \n",
      "count  214.000000  214.000000  214.000000  214.000000  \n",
      "mean     8.956963    0.175047    0.057009    2.780374  \n",
      "std      1.423153    0.497219    0.097439    2.103739  \n",
      "min      5.430000    0.000000    0.000000    1.000000  \n",
      "25%      8.240000    0.000000    0.000000    1.000000  \n",
      "50%      8.600000    0.000000    0.000000    2.000000  \n",
      "75%      9.172500    0.000000    0.100000    3.000000  \n",
      "max     16.190000    3.150000    0.510000    7.000000  \n",
      "         1      2     3     4      5     6     7    8    9  10\n",
      "1  1.51761  13.89  3.60  1.36  72.73  0.48  7.83  0.0  0.0   1\n",
      "2  1.51618  13.53  3.55  1.54  72.99  0.39  7.78  0.0  0.0   1\n",
      "3  1.51766  13.21  3.69  1.29  72.61  0.57  8.22  0.0  0.0   1\n",
      "          1      2     3     4      5     6     7    8     9  10\n",
      "0   1.52101  13.64  4.49  1.10  71.78  0.06  8.75  0.0  0.00   1\n",
      "71  1.51848  13.64  3.87  1.27  71.96  0.54  8.32  0.0  0.32   2\n"
     ]
    }
   ],
   "source": [
    "'N2.3.3'\n",
    "import pandas as pd # type: ignore\n",
    "url = 'https://raw.githubusercontent.com/akmand/datasets/main/glass.csv'\n",
    "dataframe = pd.read_csv(url)\n",
    "print(dataframe.head(5))\n",
    "print(dataframe.tail(3))\n",
    "print(dataframe.shape)\n",
    "print(dataframe.describe())\n",
    "print(dataframe.iloc[1:4])\n",
    "print(dataframe[dataframe['2'] == 13.64].head(2))"
   ]
  },
  {
   "cell_type": "code",
   "execution_count": 2,
   "metadata": {},
   "outputs": [
    {
     "name": "stdout",
     "output_type": "stream",
     "text": [
      "   sepal_length_cm  sepal_width_cm  petal_length_cm  petal_width_cm species\n",
      "0              5.1             3.5              1.4             0.2  setosa\n",
      "1              4.9             3.0              1.4             0.2  setosa\n",
      "2              4.7             3.2              1.3             0.2  setosa\n",
      "3              4.6             3.1              1.5             0.2  setosa\n",
      "4              5.0             3.6              1.4             0.2  setosa\n",
      "   sepal_length_cm  sepal_width_cm  petal_length_cm  petal_width_cm species\n",
      "0         0.222222        1.032057              1.4             0.2  setosa\n",
      "1         0.166667       -0.124958              1.4             0.2  setosa\n",
      "2         0.111111        0.337848              1.3             0.2  setosa\n",
      "3         0.083333        0.106445              1.5             0.2  setosa\n",
      "4         0.194444        1.263460              1.4             0.2  setosa\n"
     ]
    }
   ],
   "source": [
    "'№3.3.2'\n",
    "import pandas as pd\n",
    "from sklearn.preprocessing import MinMaxScaler, StandardScaler\n",
    "\n",
    "url = 'https://raw.githubusercontent.com/akmand/datasets/master/iris.csv'\n",
    "data = pd.read_csv(url)\n",
    "\n",
    "print(data.head())\n",
    "\n",
    "minmax_scaler = MinMaxScaler()\n",
    "standard_scaler = StandardScaler()\n",
    "\n",
    "data['sepal_length_cm'] = minmax_scaler.fit_transform(data[['sepal_length_cm']])\n",
    "data['sepal_width_cm'] = standard_scaler.fit_transform(data[['sepal_width_cm']])\n",
    "\n",
    "print(data.head())"
   ]
  }
 ],
 "metadata": {
  "kernelspec": {
   "display_name": "Python 3",
   "language": "python",
   "name": "python3"
  },
  "language_info": {
   "codemirror_mode": {
    "name": "ipython",
    "version": 3
   },
   "file_extension": ".py",
   "mimetype": "text/x-python",
   "name": "python",
   "nbconvert_exporter": "python",
   "pygments_lexer": "ipython3",
   "version": "3.11.9"
  }
 },
 "nbformat": 4,
 "nbformat_minor": 2
}
